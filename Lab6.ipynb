{
 "cells": [
  {
   "cell_type": "markdown",
   "metadata": {
    "id": "0z3KlfKDn4_K"
   },
   "source": [
    "# Лабораторная работа 6. \n",
    "# Сетевые алгоритмы. Динамические алгоритмы поиска путей.\n"
   ]
  },
  {
   "cell_type": "markdown",
   "metadata": {
    "id": "96Gi_LEvmSVH"
   },
   "source": [
    "## Выполнила студентка группы Камара Хадиа М'Ма БВТ2001\n",
    "***"
   ]
  },
  {
   "cell_type": "markdown",
   "metadata": {
    "id": "GjdIp8aToKIe"
   },
   "source": [
    "### Задание\n",
    "\n",
    "1.  Реализовать алгоритм поиска кратчайшего расстояния между двумя вершинами ориентированного взвешенного графа в соответствии с вариантом. \n",
    "\n",
    "2.  Предусмотреть задание графа в виде матрицы смежности/инцидентности, читаемой из файла, либо графически с помощью пользовательского интерфейса. \n",
    "\n",
    "3.  Разработать графический интерфейс пользователя с визуализацией графа и отображением кратчайшего расстояния между задаваемыми пользователем вершинами.\n",
    "\n",
    "4. По результатам работы проанализировать временную сложность работы заданного алгоритма в зависимости от числа узлов и ребер графа.\n",
    "Данные представить в виде таблицы.\n",
    "\n"
   ]
  },
  {
   "cell_type": "markdown",
   "metadata": {
    "id": "LhhUXrAmotIA"
   },
   "source": [
    "### Алгоритмы:\n",
    "\n",
    "Алгоритм Флойда-Уоршелла| Алгоритм Дейкстры | Алгоритм Беллмана-Форда | Алгоритм Джонсона| Алгоритм Левита | Алгоритм Йена\n",
    "\n"
   ]
  },
  {
   "cell_type": "markdown",
   "metadata": {
    "id": "Wggfn8l7nG72"
   },
   "source": [
    "### Выполнение:"
   ]
  },
  {
   "cell_type": "markdown",
   "metadata": {},
   "source": [
    "## Алгоритм Флойда-Уоршелла"
   ]
  },
  {
   "cell_type": "code",
   "execution_count": 2,
   "metadata": {},
   "outputs": [
    {
     "name": "stdout",
     "output_type": "stream",
     "text": [
      "[4, 0, 1]\n"
     ]
    }
   ],
   "source": [
    "import math\n",
    "\n",
    "\n",
    "def get_path(P, u, v):\n",
    "    path = [u]\n",
    "    while u != v:\n",
    "        u = P[u][v]\n",
    "        path.append(u)\n",
    "\n",
    "    return path\n",
    "\n",
    "\n",
    "V = [[0, 2, math.inf, 3, 1, math.inf, math.inf, 10],\n",
    "     [2, 0, 4, math.inf, math.inf, math.inf, math.inf, math.inf],\n",
    "     [math.inf, 4, 0, math.inf, math.inf, math.inf, math.inf, 3],\n",
    "     [3, math.inf, math.inf, 0, math.inf, math.inf, math.inf, 8],\n",
    "     [1, math.inf, math.inf, math.inf, 0, 2, math.inf, math.inf],\n",
    "     [math.inf, math.inf, math.inf, math.inf, 2, 0, 3, math.inf],\n",
    "     [math.inf, math.inf, math.inf, math.inf, math.inf, 3, 0, 1],\n",
    "     [10, math.inf, 3, 8, math.inf, math.inf, 1, 0],\n",
    "]\n",
    "\n",
    "N = len(V)                       \n",
    "P = [[v for v in range(N)] for u in range(N)]       \n",
    "\n",
    "for k in range(N):\n",
    "    for i in range(N):\n",
    "        for j in range(N):\n",
    "            d = V[i][k] + V[k][j]\n",
    "            if V[i][j] > d:\n",
    "                V[i][j] = d\n",
    "                P[i][j] = k   \n",
    "\n",
    "\n",
    "start = 1\n",
    "end = 4\n",
    "print(get_path(P, end, start))"
   ]
  },
  {
   "cell_type": "markdown",
   "metadata": {},
   "source": [
    "  ## Алгоритм Дейкстры"
   ]
  },
  {
   "cell_type": "code",
   "execution_count": 4,
   "metadata": {
    "id": "681a95mZnOSa"
   },
   "outputs": [
    {
     "name": "stdout",
     "output_type": "stream",
     "text": [
      "([None, 0, 3, 0, 1], [0, 6, 4, 7, 2])\n"
     ]
    }
   ],
   "source": [
    "import heapq as hq\n",
    "import math\n",
    "\n",
    "def dijkstra(G, s):\n",
    "    n = len(G)\n",
    "    visited = [False]*n\n",
    "    weights = [math.inf]*n\n",
    "    path = [None]*n\n",
    "    queue = []\n",
    "    weights[s] = 0\n",
    "    hq.heappush(queue, (0, s))\n",
    "    while len(queue) > 0:\n",
    "        g, u = hq.heappop(queue)\n",
    "        visited[u] = True\n",
    "        for v, w in G[u]:\n",
    "            if not visited[v]:\n",
    "                f = g + w\n",
    "                if f < weights[v]:\n",
    "                    weights[v] = f\n",
    "                    path[v] = u\n",
    "                    hq.heappush(queue, (f, v))\n",
    "    return path, weights\n",
    "\n",
    "G = [[(1, 6), (3, 7)],\n",
    "     [(2, 5), (3, 8), (4, -4)],\n",
    "     [(1, -2), (4, 7)],\n",
    "     [(2, -3), (4, 9)],\n",
    "     [(0, 2)]]\n",
    "\n",
    "print(dijkstra(G, 0))"
   ]
  },
  {
   "cell_type": "markdown",
   "metadata": {},
   "source": []
  },
  {
   "cell_type": "markdown",
   "metadata": {},
   "source": [
    "## Алгоритм Беллмана-Форда"
   ]
  },
  {
   "cell_type": "code",
   "execution_count": 14,
   "metadata": {},
   "outputs": [
    {
     "name": "stdout",
     "output_type": "stream",
     "text": [
      "Vertex Distance from Source\n",
      "0\t\t0\n",
      "1\t\t2\n",
      "2\t\t4\n",
      "3\t\t2\n",
      "4\t\t7\n"
     ]
    }
   ],
   "source": [
    "class Graph:\n",
    "\n",
    "\n",
    "\n",
    "    def __init__(self, vertices):\n",
    "\n",
    "        self.M = vertices   # Total number of vertices in the graph\n",
    "\n",
    "        self.graph = []     # Array of edges\n",
    "\n",
    "\n",
    "\n",
    "    # Add edges\n",
    "\n",
    "    def add_edge(self, a, b, c):\n",
    "\n",
    "        self.graph.append([a, b, c])\n",
    "\n",
    "\n",
    "\n",
    "    # Print the solution\n",
    "\n",
    "    def print_solution(self, distance):\n",
    "\n",
    "        print(\"Vertex Distance from Source\")\n",
    "\n",
    "        for k in range(self.M):\n",
    "\n",
    "            print(\"{0}\\t\\t{1}\".format(k, distance[k]))\n",
    "\n",
    "\n",
    "\n",
    "    def bellman_ford(self, src):\n",
    "\n",
    "\n",
    "\n",
    "        distance = [float(\"Inf\")] * self.M\n",
    "\n",
    "        distance[src] = 0\n",
    "\n",
    "\n",
    "\n",
    "        for _ in range(self.M - 1):\n",
    "\n",
    "            for a, b, c in self.graph:\n",
    "\n",
    "                if distance[a] != float(\"Inf\") and distance[a] + c < distance[b]:\n",
    "\n",
    "                    distance[b] = distance[a] + c\n",
    "\n",
    "\n",
    "\n",
    "        for a, b, c in self.graph:\n",
    "\n",
    "            if distance[a] != float(\"Inf\") and distance[a] + c < distance[b]:\n",
    "\n",
    "                print(\"Graph contains negative weight cycle\")\n",
    "\n",
    "                return\n",
    "            \n",
    "\n",
    "\n",
    "\n",
    "        self.print_solution(distance)\n",
    "\n",
    "\n",
    "\n",
    "g = Graph(5)\n",
    "\n",
    "g.add_edge(0, 1, 2)\n",
    "\n",
    "g.add_edge(0, 2, 4)\n",
    "\n",
    "g.add_edge(1, 3, 2)\n",
    "\n",
    "g.add_edge(2, 4, 3)\n",
    "\n",
    "g.add_edge(2, 3, 4)\n",
    "\n",
    "g.add_edge(4, 3, -5)\n",
    "\n",
    "\n",
    "\n",
    "g.bellman_ford(0)"
   ]
  },
  {
   "cell_type": "markdown",
   "metadata": {},
   "source": [
    "## Алгоритм Джонсона"
   ]
  },
  {
   "cell_type": "code",
   "execution_count": 18,
   "metadata": {},
   "outputs": [],
   "source": [
    "def readfile():\n",
    "    import re\n",
    "    l = list()\n",
    "    data = list()\n",
    "    pattern = '-*[0-9]+'\n",
    "    filename = 'graph.txt'\n",
    "    file = open(filename,'r')\n",
    "    l.append(file.readlines())\n",
    "    file.close()\n",
    "    for x in l:\n",
    "        data = re.findall(pattern,str(x))\n",
    "    return data\n",
    "\n",
    "    \n",
    "\n",
    "def setdata(data):\n",
    "    source = list()\n",
    "    destination = list()\n",
    "    edgecost = list()\n",
    "    test = 0\n",
    "    vertices = 0\n",
    "    edges = 0\n",
    "    distance = list()\n",
    "    for x in data:\n",
    "        if test == 0:\n",
    "            vertices = x\n",
    "        if test == 1:\n",
    "            edges = x\n",
    "        if test == 2:\n",
    "            source.append(int(x))\n",
    "        if test == 3:\n",
    "            destination.append(int(x))\n",
    "        if test == 4:\n",
    "            edgecost.append(int(x))\n",
    "            test = 1\n",
    "        test+=1\n",
    "    vertexlist = list(vertices)\n",
    "    test = int(vertices)-1\n",
    "    while test > 0:\n",
    "         vertexlist.append(test)\n",
    "         test -=1\n",
    "    for x in vertexlist:\n",
    "        source.append(0)\n",
    "        destination.append(int(x))\n",
    "        edgecost.append(0)\n",
    "    distance = list()\n",
    "    test = 0\n",
    "    while test < int(vertices)+ 1:\n",
    "        distance.append(test)\n",
    "        test+=1\n",
    "    return vertices, edges, source, destination, edgecost, vertexlist, distance\n",
    "\n",
    "\n",
    "\n",
    "def intialize(distance):\n",
    "    predecessor = list()\n",
    "    d = list()\n",
    "    #initialization\n",
    "    for x in distance:\n",
    "        if x == 0:\n",
    "            d.append(0)\n",
    "        else:\n",
    "            d.append(999999999)\n",
    "        predecessor.append('null')\n",
    "    return d, predecessor\n",
    "    \n",
    "\n",
    "\n",
    "def relax(vertices, source, destination, edgecost, d, predecessor,edges):\n",
    "    y = 0\n",
    "    i = 0\n",
    "    z = 0\n",
    "    for x in edgecost:\n",
    "        z+=1\n",
    "    while i < int(vertices):\n",
    "        while y<int(z):\n",
    "            if d[int(source[y])] + edgecost[y] < d[int(destination[y])]:\n",
    "                d[int(destination[y])] = int(edgecost[y]) + d[int(source[y])]  \n",
    "                predecessor[int(destination[y])] = source[y]\n",
    "            y+=1\n",
    "        y=0\n",
    "        i+=1\n",
    "    return source, destination, edgecost, d, predecessor\n",
    "\n",
    "def reweight(vertices, source, destination, edgecost, d,edges):\n",
    "    y = 0\n",
    "    z = 0\n",
    "    for x in edgecost:\n",
    "        z+=1\n",
    "    while y<int(z)-1:\n",
    "        edgecost[y] = edgecost[y] + d[int(source[y])] - d[int(destination[y])]\n",
    "        y+=1\n",
    "    return source, destination, edgecost, d\n",
    "    \n",
    "\n",
    "def output(source, destination, edgecost):\n",
    "    print ('Output in the form...')\n",
    "    print ('[Source]')\n",
    "    print ('[Destination]')\n",
    "    print ('[Reweighting]')\n",
    "    print()\n",
    "    print('Running Dijkstra on vertex n')\n",
    "    print('vertices [0...n]')\n",
    "    print('previous of [0...n]')\n",
    "    print('cost of [0...n]')\n",
    "    print()\n",
    "    print()\n",
    "    print(source)\n",
    "    print(destination)\n",
    "    print(edgecost)\n",
    "    print()\n",
    "\n",
    "\n",
    "def Dijkstra(vertexlist, sourcevertex,source,destination, edgecost,predecessor,edges,vertices):\n",
    "    u = 0\n",
    "    v = 0\n",
    "    alt = 0\n",
    "    count = 0\n",
    "    smallest = 9999999\n",
    "    newvertexlist = list()\n",
    "    newvertexlist.append(0)\n",
    "    for x in vertexlist:\n",
    "        newvertexlist.append(int(x))\n",
    "    dist = list()\n",
    "    previous = list()\n",
    "    Q = set(newvertexlist)\n",
    "    Q.remove(0)\n",
    "    for x in newvertexlist:\n",
    "        if int(x) == int(sourcevertex):\n",
    "            dist.append(0)\n",
    "        else:\n",
    "            dist.append(9999999)\n",
    "        previous.append('undefined')\n",
    "    while len(Q) != 0:\n",
    "        for y in Q:\n",
    "            if y != 0:\n",
    "                if dist[int(y)] < smallest:\n",
    "                    smallest = dist[y]\n",
    "                    u = y\n",
    "                if dist[y] == 999999:\n",
    "                    break\n",
    "        smallest = 9999999\n",
    "        Q.remove(u)\n",
    "        while(int(count)<int(edges)+1):\n",
    "            if(source[count] == u):\n",
    "                v = destination[count]\n",
    "                alt = dist[u] + edgecost[count]\n",
    "                if alt < dist[v]:\n",
    "                    dist[v] = alt\n",
    "                    previous[v] = u\n",
    "            count+=1\n",
    "        count = 0\n",
    "    print('Vertices:' + str(newvertexlist))\n",
    "    print('Previous:' + str(previous))\n",
    "    print('Cost:    ' + str(dist))\n",
    "    print()\n",
    "\n",
    "\n",
    "\n",
    "def Johnsons():\n",
    "    data = list()\n",
    "    source = list()\n",
    "    destination = list()\n",
    "    edgecost = list()\n",
    "    test = 0\n",
    "    vertices = 0\n",
    "    edges = 0\n",
    "    data = readfile()\n",
    "    vertexlist = list()\n",
    "    distance = list()\n",
    "    vertices, edges, source, destination, edgecost, vertexlist, distance = setdata(data)\n",
    "    predecessor = list()\n",
    "    d = list()\n",
    "    d, predecessor = intialize(distance)\n",
    "    #relaxation\n",
    "    source, destination, edgecost, d, predecessor = relax(vertices, source, destination, edgecost, d, predecessor,edges)\n",
    "    #change weights\n",
    "    vertexlist.reverse()\n",
    "    source, destination, edgecost, d = reweight(vertices, source, destination, edgecost, d,edges)\n",
    "    output(source, destination, edgecost)\n",
    "    for x in vertexlist:\n",
    "        print('Running Dijkstra on vertex ' + str(x))\n",
    "        Dijkstra(vertexlist,x,source, destination, edgecost, predecessor, edges,vertices)"
   ]
  },
  {
   "cell_type": "markdown",
   "metadata": {},
   "source": [
    "## Алгоритм Левита\n"
   ]
  },
  {
   "cell_type": "code",
   "execution_count": 7,
   "metadata": {},
   "outputs": [],
   "source": [
    "def levit(graph, start, target): \n",
    "    prev, dist = {}, defaultdict(lambda: inf)\n",
    "    dist[start] = 0\n",
    "    m0, m1, m1_u, m2 = set(), set(), set(), {u for u in graph.nodes if u != start}\n",
    "    m1.add(start)\n",
    "    while m1 or m1_u:\n",
    "        u = m1_u.pop() if m1_u else m1.pop()\n",
    "        for v, w in graph.succ[u].items():\n",
    "            weight = dist[u] + w['weight']\n",
    "            if v in m2:\n",
    "                prev[v], dist[v] = u, min(dist[v], weight)\n",
    "                m1.add(v)\n",
    "                m2.remove(v)\n",
    "            elif v in m1 and dist[v] > weight:\n",
    "                prev[v], dist[v] = u, min(dist[v], weight)\n",
    "            elif v in m0 and dist[v] > weight:\n",
    "                prev[v], dist[v] = u, min(dist[v], weight)\n",
    "                m0.remove(v)\n",
    "                m1_u.add(v)\n",
    "            m0.add(u)\n",
    "    return path(start, target, prev), dist[target]"
   ]
  },
  {
   "cell_type": "markdown",
   "metadata": {},
   "source": [
    "## Алгоритм Йена"
   ]
  },
  {
   "cell_type": "code",
   "execution_count": 17,
   "metadata": {},
   "outputs": [],
   "source": [
    "def yen(graph, start, target, k=2):\n",
    "    cnd, res = [], [dijkstra(graph, start, target)]\n",
    "    for _ in range(k - 1):\n",
    "        for i in range(len(res[-1]) - 1):\n",
    "            md, root = deepcopy(graph), res[-1][:i + 1]\n",
    "            rt_len = sum(graph[root[j]][root[j + 1]][\"weight\"] for j in range(1, i))\n",
    "            sp = root[i]\n",
    "            for r_path in res:\n",
    "                if root == r_path[:i + 1] and ((r_path[i], r_path[i + 1]) in list(md.edges)):\n",
    "                    md.remove_edge(r_path[i], r_path[i + 1])\n",
    "                    for node in root:\n",
    "                        if node != sp and node in md.nodes: md.remove_node(node)\n",
    "                        sp = [dijkstra(md, s, target) for s in sp]\n",
    "                        if len(sp) == 1 or not sp: continue\n",
    "                        sp_len = sp[1][1]\n",
    "                        if (c := root + sp[1][1:]) not in cnd: cnd.append((c, rt_len + sp_len))\n",
    "                if not cnd: break\n",
    "                cnd.sort(key=lambda x: x[1], reverse=true)\n",
    "                res.append(cnd.pop()[0])\n",
    "                return res[0]\n",
    "                           \n",
    "                                 \n",
    "                                    \n",
    "                            \n",
    "                             \n",
    "                                       "
   ]
  },
  {
   "cell_type": "markdown",
   "metadata": {
    "id": "diOb-K7LnO5a"
   },
   "source": [
    "### Вывод"
   ]
  }
 ],
 "metadata": {
  "colab": {
   "name": "Lab6.ipynb",
   "provenance": []
  },
  "kernelspec": {
   "display_name": "Python 3 (ipykernel)",
   "language": "python",
   "name": "python3"
  },
  "language_info": {
   "codemirror_mode": {
    "name": "ipython",
    "version": 3
   },
   "file_extension": ".py",
   "mimetype": "text/x-python",
   "name": "python",
   "nbconvert_exporter": "python",
   "pygments_lexer": "ipython3",
   "version": "3.10.2"
  }
 },
 "nbformat": 4,
 "nbformat_minor": 1
}
